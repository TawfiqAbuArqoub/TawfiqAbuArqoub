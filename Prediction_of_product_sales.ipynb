{
  "nbformat": 4,
  "nbformat_minor": 0,
  "metadata": {
    "colab": {
      "provenance": [],
      "authorship_tag": "ABX9TyPWz8fMNDabMbeT7Gp118Ra",
      "include_colab_link": true
    },
    "kernelspec": {
      "name": "python3",
      "display_name": "Python 3"
    },
    "language_info": {
      "name": "python"
    }
  },
  "cells": [
    {
      "cell_type": "markdown",
      "metadata": {
        "id": "view-in-github",
        "colab_type": "text"
      },
      "source": [
        "<a href=\"https://colab.research.google.com/github/TawfiqAbuArqoub/TawfiqAbuArqoub/blob/main/Prediction_of_product_sales.ipynb\" target=\"_parent\"><img src=\"https://colab.research.google.com/assets/colab-badge.svg\" alt=\"Open In Colab\"/></a>"
      ]
    },
    {
      "cell_type": "markdown",
      "source": [
        "# **Project Title : (Prediction Of Product Sales )**\n",
        "- Author : Tawfiq Abu Arqoub"
      ],
      "metadata": {
        "id": "33X1Oe-CkdeS"
      }
    },
    {
      "cell_type": "markdown",
      "source": [
        "## **Project Overview**\n"
      ],
      "metadata": {
        "id": "esb7XvR5kibP"
      }
    },
    {
      "cell_type": "markdown",
      "source": [
        "## **Load and Inspect Data**\n",
        "\n"
      ],
      "metadata": {
        "id": "oTkBgjkdkwbG"
      }
    },
    {
      "cell_type": "markdown",
      "source": [
        "## **Clean Data**"
      ],
      "metadata": {
        "id": "vbCXYEhrlGrd"
      }
    },
    {
      "cell_type": "markdown",
      "source": [
        "## **Expolatory Data Analysis**"
      ],
      "metadata": {
        "id": "-psLD7xAlOfE"
      }
    },
    {
      "cell_type": "markdown",
      "source": [
        "## **Feature Inspection**"
      ],
      "metadata": {
        "id": "MXAWoE-5lSvL"
      }
    }
  ]
}